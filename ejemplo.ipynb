{
  "nbformat": 4,
  "nbformat_minor": 0,
  "metadata": {
    "colab": {
      "provenance": []
    },
    "kernelspec": {
      "name": "python3",
      "display_name": "Python 3"
    },
    "language_info": {
      "name": "python"
    }
  },
  "cells": [
    {
      "cell_type": "code",
      "execution_count": 1,
      "metadata": {
        "id": "X0XI7bCBXzYf"
      },
      "outputs": [],
      "source": [
        "import plotly.express as px\n",
        "import pandas as pd\n",
        "\n",
        "# Datos de ejemplo\n",
        "df = pd.DataFrame({\n",
        "    \"x\": range(10),\n",
        "    \"y\": [i**2 for i in range(10)],\n",
        "})\n",
        "\n",
        "# Crear gráfico interactivo\n",
        "fig = px.line(df, x=\"x\", y=\"y\", title=\"Gráfico interactivo\")\n",
        "fig.write_html(\"interactive_plot.html\")"
      ]
    }
  ]
}